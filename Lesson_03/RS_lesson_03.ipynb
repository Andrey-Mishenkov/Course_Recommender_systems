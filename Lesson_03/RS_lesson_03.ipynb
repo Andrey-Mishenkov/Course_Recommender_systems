{
 "cells": [
  {
   "cell_type": "markdown",
   "metadata": {},
   "source": [
    "## Теоретическая часть"
   ]
  },
  {
   "cell_type": "markdown",
   "metadata": {},
   "source": [
    "**1.** Вспомним прошлый вебинар, мы рассматривали User-User рекомендации и Item-Item рекомендации. Чем они отличаются и чем они похожи? Если есть функция item_item_rec(interaction_matrix). Можно ли использовать эту функцию для user_user_rec?  \n",
    "В чем принципиальные отличия item-item рекомендаций от ALS?\n"
   ]
  },
  {
   "cell_type": "markdown",
   "metadata": {},
   "source": [
    "* Это по сути один и тот же алгоритм, но примененный к разным матрицам (users_X_items и items_X_users).\n",
    "\n",
    "* Функцию user_user_rec использовать можно, если транспонировать исходную матрицу user_X_items\n",
    "\n",
    "* У алгоритма item-item очень большая сложность рекомендаций O(I^3). Если очень много товаров, то предсказания займут много времени.\n",
    "\n",
    "* А алгоритм ALS очень быстрый, предсказания делаются перемножением матриц."
   ]
  },
  {
   "cell_type": "markdown",
   "metadata": {},
   "source": [
    "**2.** Приведите 3 примера весов (те, которых не было на вебинаре: сумма покупок, количество покупок - неинтересно) user-item матрицы для задачи рекомендаций товаров \n"
   ]
  },
  {
   "cell_type": "markdown",
   "metadata": {},
   "source": [
    "* Средневзвешенная цена товара\n",
    "* Количество уникальных периодов (недель, дней)\n",
    "* Среднее количество покупок за период\n",
    "* Время, количество периодов (недель, дней), прошедшее со дня последней покупки"
   ]
  },
  {
   "cell_type": "markdown",
   "metadata": {},
   "source": [
    "**3.** Какие ограничения есть у ALS? (Тип информации, линейность/нелинейность факторов и т д)\n"
   ]
  },
  {
   "cell_type": "markdown",
   "metadata": {},
   "source": [
    "* ALS учитывает только положительные взаимодействия. ALS не учитывает взаимодействия, которых не было."
   ]
  },
  {
   "cell_type": "markdown",
   "metadata": {},
   "source": [
    "**4.** Мы рассматривали bm_25_weight. \n",
    "Опишите, как он работает. Как сделать рекомендации только на основе bm_25? (Можно и нужно пользоваться любыми источниками, приложите на них ссылки). Какие еще способы перевзвешивания user-item матрицы Вы знаете / можете предложить (ещё 2-3 способа)?"
   ]
  },
  {
   "cell_type": "markdown",
   "metadata": {},
   "source": [
    "* BM25 - алгоритм расчета релевантности документов (объектов), основанный на вероятностной модели.\n",
    "* BM25 представляют собой функцию ранжирования, статистическую меру, которая используется для оценки важности слова (объета) в контексте документа. Который является в свою очередь частью определенной коллекции документов. \n",
    "* Вес некоторого слова (объекта) пропорционален количеству употребления этого слова (объекта) в документе, и обратно пропорционален частоте употребления слова (объекта) в других документах коллекции.\n",
    "\n",
    "**Способы перевзвешивания матрицы user-item**\n",
    "* TF-IDF взвешивание\n",
    "* TFIDFRecommender"
   ]
  },
  {
   "cell_type": "markdown",
   "metadata": {},
   "source": [
    "## Практическая часть\n"
   ]
  },
  {
   "cell_type": "code",
   "execution_count": 19,
   "metadata": {},
   "outputs": [],
   "source": [
    "import implicit"
   ]
  },
  {
   "cell_type": "code",
   "execution_count": 20,
   "metadata": {},
   "outputs": [],
   "source": [
    "import pandas as pd\n",
    "import numpy as np\n",
    "import matplotlib.pyplot as plt\n",
    "%matplotlib inline\n",
    "\n",
    "# Для работы с матрицами\n",
    "from scipy.sparse import csr_matrix\n",
    "\n",
    "# Матричная факторизация\n",
    "from implicit.als import AlternatingLeastSquares\n",
    "# from implicit.nearest_neighbours import bm25_weight, tfidf_weight"
   ]
  },
  {
   "cell_type": "code",
   "execution_count": 21,
   "metadata": {},
   "outputs": [],
   "source": [
    "import warnings\n",
    "warnings.filterwarnings('ignore')\n",
    "import os\n",
    "import seaborn as sns\n",
    "import time\n",
    "from datetime import timedelta\n",
    "\n",
    "os.environ[\"MKL_NUM_THREADS\"] = \"1\""
   ]
  },
  {
   "cell_type": "code",
   "execution_count": 22,
   "metadata": {},
   "outputs": [],
   "source": [
    "def precision_at_k(recommended_list, bought_list, k=5):\n",
    "    \n",
    "    bought_list = np.array(bought_list)\n",
    "    recommended_list = np.array(recommended_list)\n",
    "    \n",
    "    bought_list = bought_list  # Тут нет [:k] !!\n",
    "    recommended_list = recommended_list[:k]\n",
    "    \n",
    "    flags = np.isin(bought_list, recommended_list)\n",
    "    #print(flags)\n",
    "    \n",
    "    precision = flags.sum() / len(recommended_list)\n",
    "    \n",
    "    return precision"
   ]
  },
  {
   "cell_type": "code",
   "execution_count": 23,
   "metadata": {},
   "outputs": [
    {
     "data": {
      "text/html": [
       "<div>\n",
       "<style scoped>\n",
       "    .dataframe tbody tr th:only-of-type {\n",
       "        vertical-align: middle;\n",
       "    }\n",
       "\n",
       "    .dataframe tbody tr th {\n",
       "        vertical-align: top;\n",
       "    }\n",
       "\n",
       "    .dataframe thead th {\n",
       "        text-align: right;\n",
       "    }\n",
       "</style>\n",
       "<table border=\"1\" class=\"dataframe\">\n",
       "  <thead>\n",
       "    <tr style=\"text-align: right;\">\n",
       "      <th></th>\n",
       "      <th>user_id</th>\n",
       "      <th>basket_id</th>\n",
       "      <th>day</th>\n",
       "      <th>item_id</th>\n",
       "      <th>quantity</th>\n",
       "      <th>sales_value</th>\n",
       "      <th>store_id</th>\n",
       "      <th>retail_disc</th>\n",
       "      <th>trans_time</th>\n",
       "      <th>week_no</th>\n",
       "      <th>coupon_disc</th>\n",
       "      <th>coupon_match_disc</th>\n",
       "    </tr>\n",
       "  </thead>\n",
       "  <tbody>\n",
       "    <tr>\n",
       "      <th>0</th>\n",
       "      <td>2375</td>\n",
       "      <td>26984851472</td>\n",
       "      <td>1</td>\n",
       "      <td>1004906</td>\n",
       "      <td>1</td>\n",
       "      <td>1.39</td>\n",
       "      <td>364</td>\n",
       "      <td>-0.6</td>\n",
       "      <td>1631</td>\n",
       "      <td>1</td>\n",
       "      <td>0.0</td>\n",
       "      <td>0.0</td>\n",
       "    </tr>\n",
       "    <tr>\n",
       "      <th>1</th>\n",
       "      <td>2375</td>\n",
       "      <td>26984851472</td>\n",
       "      <td>1</td>\n",
       "      <td>1033142</td>\n",
       "      <td>1</td>\n",
       "      <td>0.82</td>\n",
       "      <td>364</td>\n",
       "      <td>0.0</td>\n",
       "      <td>1631</td>\n",
       "      <td>1</td>\n",
       "      <td>0.0</td>\n",
       "      <td>0.0</td>\n",
       "    </tr>\n",
       "  </tbody>\n",
       "</table>\n",
       "</div>"
      ],
      "text/plain": [
       "   user_id    basket_id  day  item_id  quantity  sales_value  store_id  \\\n",
       "0     2375  26984851472    1  1004906         1         1.39       364   \n",
       "1     2375  26984851472    1  1033142         1         0.82       364   \n",
       "\n",
       "   retail_disc  trans_time  week_no  coupon_disc  coupon_match_disc  \n",
       "0         -0.6        1631        1          0.0                0.0  \n",
       "1          0.0        1631        1          0.0                0.0  "
      ]
     },
     "execution_count": 23,
     "metadata": {},
     "output_type": "execute_result"
    }
   ],
   "source": [
    "# data = pd.read_csv('../data/transaction_data.csv')\n",
    "data = pd.read_csv('D:/WORK/BI/GeekBrains/Course_Recommender_systems/Data/retail_train.csv')\n",
    "\n",
    "data.columns = [col.lower() for col in data.columns]\n",
    "data.rename(columns={'household_key': 'user_id',\n",
    "                    'product_id': 'item_id'},\n",
    "           inplace=True)\n",
    "\n",
    "\n",
    "test_size_weeks = 3\n",
    "\n",
    "data_train = data[data['week_no'] < data['week_no'].max() - test_size_weeks]\n",
    "data_test = data[data['week_no'] >= data['week_no'].max() - test_size_weeks]\n",
    "\n",
    "data_train.head(2)"
   ]
  },
  {
   "cell_type": "code",
   "execution_count": 24,
   "metadata": {},
   "outputs": [
    {
     "data": {
      "text/plain": [
       "((2278490, 12), (118314, 12))"
      ]
     },
     "execution_count": 24,
     "metadata": {},
     "output_type": "execute_result"
    }
   ],
   "source": [
    "data_train.shape, data_test.shape"
   ]
  },
  {
   "cell_type": "code",
   "execution_count": 25,
   "metadata": {},
   "outputs": [],
   "source": [
    "popularity = data_train.groupby('item_id')['quantity'].sum().reset_index()\n",
    "popularity.rename(columns = {'quantity': 'n_sold'}, inplace = True)\n",
    "\n",
    "top_5000 = popularity.sort_values('n_sold', ascending = False).head(5000).item_id.tolist()"
   ]
  },
  {
   "cell_type": "code",
   "execution_count": 26,
   "metadata": {},
   "outputs": [],
   "source": [
    "# Заведем фиктивный item_id (если юзер покупал товары из топ-5000, то он \"купил\" такой товар)\n",
    "data_train.loc[~data_train['item_id'].isin(top_5000), 'item_id'] = 999999"
   ]
  },
  {
   "cell_type": "markdown",
   "metadata": {},
   "source": [
    "### Задание 1. Подбор матрицы $c_{ui}$\n",
    "Попробуйте различные варианты матрицы весов (3+ вариантов). Обучите алгоритм для различных $C$. В качестве результата приведите таблицу: матрица весов - результат на train и validation.\n",
    "Сделате качественные выводы.\n"
   ]
  },
  {
   "cell_type": "code",
   "execution_count": 27,
   "metadata": {},
   "outputs": [],
   "source": [
    "# построение матрицы user_item_matrix для разных весов\n",
    "\n",
    "def get_matrix_user_item(data, variant_weight = 0):\n",
    "    \n",
    "    if (variant_weight == 0):   # количество транзакций\n",
    "    \n",
    "        user_item_matrix = pd.pivot_table(data, \n",
    "                                          index = 'user_id', columns = 'item_id', \n",
    "                                          values = 'quantity', \n",
    "                                          aggfunc = 'count', \n",
    "                                          fill_value = 0\n",
    "                                         )\n",
    "\n",
    "    if (variant_weight == 1):   # общее количество\n",
    "        \n",
    "        user_item_matrix = pd.pivot_table(data, \n",
    "                                          index = 'user_id', columns = 'item_id', \n",
    "                                          values = 'quantity', \n",
    "                                          aggfunc = 'count', \n",
    "                                          fill_value = 0\n",
    "                                         )\n",
    "\n",
    "    elif (variant_weight == 2):   # оборот (общая выручка)\n",
    "        \n",
    "        user_item_matrix = pd.pivot_table(data, \n",
    "                                          index = 'user_id', columns = 'item_id', \n",
    "                                          values = 'sales_value',\n",
    "                                          aggfunc = 'sum', \n",
    "                                          fill_value = 0\n",
    "                                         )\n",
    "        \n",
    "    elif (variant_weight == 3):   # число уникальных периодов покупок (недели)\n",
    "        \n",
    "        user_item_matrix = pd.pivot_table(data, \n",
    "                                          index = 'user_id', columns = 'item_id', \n",
    "                                          values = 'week_no', \n",
    "                                          aggfunc = 'nunique', \n",
    "                                          fill_value = 0\n",
    "                                         )\n",
    "        \n",
    "    elif (variant_weight == 4):   # число уникальных периодов (дни)\n",
    "        \n",
    "        user_item_matrix = pd.pivot_table(data, \n",
    "                                          index = 'user_id', columns = 'item_id', \n",
    "                                          values = 'day', \n",
    "                                          aggfunc = 'nunique', \n",
    "                                          fill_value = 0\n",
    "                                         )\n",
    "        \n",
    "    user_item_matrix = user_item_matrix.astype(float) # необходимый тип матрицы для implicit\n",
    "\n",
    "    # переведем в формат sparse matrix\n",
    "    sparse_user_item = csr_matrix(user_item_matrix).tocsr()\n",
    "    \n",
    "    return user_item_matrix"
   ]
  },
  {
   "cell_type": "code",
   "execution_count": 28,
   "metadata": {},
   "outputs": [],
   "source": [
    "def get_recommendations(user, sparse_user_item, model, N = 5):\n",
    "    \n",
    "    res = [id_to_itemid[rec[0]] for rec in \n",
    "                    model.recommend(userid = userid_to_id[user], \n",
    "                                    user_items = sparse_user_item,   # на вход user-item matrix\n",
    "                                    N = N, \n",
    "                                    filter_already_liked_items = False, \n",
    "                                    filter_items = None, \n",
    "                                    recalculate_user = True)]\n",
    "    return res"
   ]
  },
  {
   "cell_type": "code",
   "execution_count": 29,
   "metadata": {},
   "outputs": [],
   "source": [
    "# модель\n",
    "model = AlternatingLeastSquares(factors = 100,\n",
    "                                regularization = 0.001,\n",
    "                                iterations = 15, \n",
    "                                calculate_training_loss = True, \n",
    "                                num_threads = 2)"
   ]
  },
  {
   "cell_type": "code",
   "execution_count": 71,
   "metadata": {},
   "outputs": [],
   "source": [
    "# Варианты взвешивания\n",
    "list_variants_weight = ['als_count_trans', 'als_quantity', 'als_sales', 'als_count_weeks', 'als_count_days']"
   ]
  },
  {
   "cell_type": "code",
   "execution_count": 82,
   "metadata": {},
   "outputs": [],
   "source": [
    "# Оценка и Вывод результатов\n",
    "\n",
    "def show_result(result):\n",
    "    list_results_weight = []\n",
    "\n",
    "    for i, variant_name in enumerate(list_variants_weight):\n",
    "\n",
    "        res = result.apply(lambda row: precision_at_k( row[variant_name], row['actual']), axis = 1).mean()\n",
    "        list_results_weight.append(res)\n",
    "\n",
    "    # Вывод результатов\n",
    "    print('N варианта\\t Качество\\t Вариант взвешивания')\n",
    "    print()\n",
    "\n",
    "    for i, variant_name in enumerate(list_variants_weight):\n",
    "        print(f'{i}\\t\\t {round(list_results_weight[i], 6)}\\t\\t {variant_name}')\n",
    "        \n",
    "    return list_results_weight"
   ]
  },
  {
   "cell_type": "code",
   "execution_count": 61,
   "metadata": {},
   "outputs": [],
   "source": [
    "# Получение таблицы с результатами предсказаний (для Train и для Test); \n",
    "# 1-й вариант\n",
    "\n",
    "def get_result_table(data, data_valid):\n",
    "    \n",
    "    # реальные данные user + item\n",
    "    result = data_valid.groupby('user_id')['item_id'].unique().reset_index()\n",
    "    result.columns = ['user_id', 'actual']\n",
    "    result['actual'] = result['actual'].apply(lambda x: list(x))\n",
    "    \n",
    "    for i, variant_name in enumerate(list_variants_weight):\n",
    "\n",
    "        print(f'Вариант = {i};\\t variant_name = {variant_name}')\n",
    "        \n",
    "        # замер времени - начало\n",
    "        start_time = time.monotonic()\n",
    "    \n",
    "        # матрица user_item_matrix\n",
    "        user_item_matrix = get_matrix_user_item(data, i)\n",
    "\n",
    "        # переведем в формат sparse matrix\n",
    "        sparse_user_item = csr_matrix(user_item_matrix).tocsr()\n",
    "    \n",
    "        # обучение\n",
    "        model.fit(csr_matrix(user_item_matrix).T.tocsr(), show_progress = False)\n",
    "\n",
    "        # предсказание\n",
    "        result[variant_name] = result['user_id'].apply(\n",
    "                                        lambda x: get_recommendations(x, sparse_user_item, model = model, N = 5))\n",
    "\n",
    "        # замер времени - окончание\n",
    "        end_time = time.monotonic()\n",
    "        time_total = timedelta(seconds = end_time - start_time)\n",
    "        print(f'\\t\\t\\t\\t\\t\\t time_total = {time_total}')\n",
    "\n",
    "    return result"
   ]
  },
  {
   "cell_type": "markdown",
   "metadata": {},
   "source": [
    "#### Перебор вариантов взвешивания для Train (построение user_item_matrix)"
   ]
  },
  {
   "cell_type": "code",
   "execution_count": 72,
   "metadata": {},
   "outputs": [
    {
     "name": "stdout",
     "output_type": "stream",
     "text": [
      "Wall time: 4.92 s\n"
     ]
    }
   ],
   "source": [
    "%%time\n",
    "user_item_matrix = get_matrix_user_item(data_train, 0)\n",
    "\n",
    "userids = user_item_matrix.index.values\n",
    "itemids = user_item_matrix.columns.values\n",
    "\n",
    "matrix_userids = np.arange(len(userids))\n",
    "matrix_itemids = np.arange(len(itemids))\n",
    "\n",
    "id_to_itemid = dict(zip(matrix_itemids, itemids))\n",
    "id_to_userid = dict(zip(matrix_userids, userids))\n",
    "\n",
    "itemid_to_id = dict(zip(itemids, matrix_itemids))\n",
    "userid_to_id = dict(zip(userids, matrix_userids))"
   ]
  },
  {
   "cell_type": "code",
   "execution_count": 73,
   "metadata": {},
   "outputs": [
    {
     "name": "stdout",
     "output_type": "stream",
     "text": [
      "Вариант = 0;\t variant_name = als_count_trans\n",
      "\t\t\t\t\t\t time_total = 0:01:17.313000\n",
      "Вариант = 1;\t variant_name = als_quantity\n",
      "\t\t\t\t\t\t time_total = 0:01:27.094000\n",
      "Вариант = 2;\t variant_name = als_sales\n",
      "\t\t\t\t\t\t time_total = 0:01:18.578000\n",
      "Вариант = 3;\t variant_name = als_count_weeks\n",
      "\t\t\t\t\t\t time_total = 0:02:46.687000\n",
      "Вариант = 4;\t variant_name = als_count_days\n",
      "\t\t\t\t\t\t time_total = 0:02:38.281000\n",
      "Wall time: 9min 28s\n"
     ]
    }
   ],
   "source": [
    "%%time\n",
    "result_train = get_result_table(data_train, data_train)"
   ]
  },
  {
   "cell_type": "code",
   "execution_count": 74,
   "metadata": {},
   "outputs": [
    {
     "data": {
      "text/html": [
       "<div>\n",
       "<style scoped>\n",
       "    .dataframe tbody tr th:only-of-type {\n",
       "        vertical-align: middle;\n",
       "    }\n",
       "\n",
       "    .dataframe tbody tr th {\n",
       "        vertical-align: top;\n",
       "    }\n",
       "\n",
       "    .dataframe thead th {\n",
       "        text-align: right;\n",
       "    }\n",
       "</style>\n",
       "<table border=\"1\" class=\"dataframe\">\n",
       "  <thead>\n",
       "    <tr style=\"text-align: right;\">\n",
       "      <th></th>\n",
       "      <th>user_id</th>\n",
       "      <th>actual</th>\n",
       "      <th>als_count_trans</th>\n",
       "      <th>als_quantity</th>\n",
       "      <th>als_sales</th>\n",
       "      <th>als_count_weeks</th>\n",
       "      <th>als_count_days</th>\n",
       "    </tr>\n",
       "  </thead>\n",
       "  <tbody>\n",
       "    <tr>\n",
       "      <th>0</th>\n",
       "      <td>1</td>\n",
       "      <td>[999999, 840361, 845307, 852014, 856942, 91267...</td>\n",
       "      <td>[1033142, 1005186, 5569374, 979707, 995242]</td>\n",
       "      <td>[1033142, 1005186, 5569374, 979707, 995242]</td>\n",
       "      <td>[1105488, 5569374, 832678, 1062002, 878996]</td>\n",
       "      <td>[1033142, 1005186, 979707, 5569374, 995242]</td>\n",
       "      <td>[1033142, 1005186, 979707, 5569374, 995242]</td>\n",
       "    </tr>\n",
       "    <tr>\n",
       "      <th>1</th>\n",
       "      <td>2</td>\n",
       "      <td>[854852, 930118, 1077555, 1098066, 999999, 556...</td>\n",
       "      <td>[1133018, 1106523, 999999, 1082185, 5569230]</td>\n",
       "      <td>[1133018, 1106523, 999999, 1082185, 5569230]</td>\n",
       "      <td>[5569230, 1133018, 1106523, 12810393, 999999]</td>\n",
       "      <td>[1133018, 1106523, 999999, 1082185, 5569230]</td>\n",
       "      <td>[1133018, 1106523, 999999, 1082185, 5569230]</td>\n",
       "    </tr>\n",
       "  </tbody>\n",
       "</table>\n",
       "</div>"
      ],
      "text/plain": [
       "   user_id                                             actual  \\\n",
       "0        1  [999999, 840361, 845307, 852014, 856942, 91267...   \n",
       "1        2  [854852, 930118, 1077555, 1098066, 999999, 556...   \n",
       "\n",
       "                                als_count_trans  \\\n",
       "0   [1033142, 1005186, 5569374, 979707, 995242]   \n",
       "1  [1133018, 1106523, 999999, 1082185, 5569230]   \n",
       "\n",
       "                                   als_quantity  \\\n",
       "0   [1033142, 1005186, 5569374, 979707, 995242]   \n",
       "1  [1133018, 1106523, 999999, 1082185, 5569230]   \n",
       "\n",
       "                                       als_sales  \\\n",
       "0    [1105488, 5569374, 832678, 1062002, 878996]   \n",
       "1  [5569230, 1133018, 1106523, 12810393, 999999]   \n",
       "\n",
       "                                als_count_weeks  \\\n",
       "0   [1033142, 1005186, 979707, 5569374, 995242]   \n",
       "1  [1133018, 1106523, 999999, 1082185, 5569230]   \n",
       "\n",
       "                                 als_count_days  \n",
       "0   [1033142, 1005186, 979707, 5569374, 995242]  \n",
       "1  [1133018, 1106523, 999999, 1082185, 5569230]  "
      ]
     },
     "execution_count": 74,
     "metadata": {},
     "output_type": "execute_result"
    }
   ],
   "source": [
    "result_train.head(2)"
   ]
  },
  {
   "cell_type": "markdown",
   "metadata": {},
   "source": [
    "#### Перебор вариантов взвешивания для Test (построение user_item_matrix)"
   ]
  },
  {
   "cell_type": "code",
   "execution_count": 75,
   "metadata": {},
   "outputs": [
    {
     "name": "stdout",
     "output_type": "stream",
     "text": [
      "Вариант = 0;\t variant_name = als_count_trans\n",
      "\t\t\t\t\t\t time_total = 0:01:13.953000\n",
      "Вариант = 1;\t variant_name = als_quantity\n",
      "\t\t\t\t\t\t time_total = 0:01:19.781000\n",
      "Вариант = 2;\t variant_name = als_sales\n",
      "\t\t\t\t\t\t time_total = 0:01:14.766000\n",
      "Вариант = 3;\t variant_name = als_count_weeks\n",
      "\t\t\t\t\t\t time_total = 0:02:20.062000\n",
      "Вариант = 4;\t variant_name = als_count_days\n",
      "\t\t\t\t\t\t time_total = 0:02:05.485000\n",
      "Wall time: 8min 14s\n"
     ]
    }
   ],
   "source": [
    "%%time\n",
    "result_test = get_result_table(data_train, data_test)"
   ]
  },
  {
   "cell_type": "code",
   "execution_count": 76,
   "metadata": {},
   "outputs": [
    {
     "data": {
      "text/html": [
       "<div>\n",
       "<style scoped>\n",
       "    .dataframe tbody tr th:only-of-type {\n",
       "        vertical-align: middle;\n",
       "    }\n",
       "\n",
       "    .dataframe tbody tr th {\n",
       "        vertical-align: top;\n",
       "    }\n",
       "\n",
       "    .dataframe thead th {\n",
       "        text-align: right;\n",
       "    }\n",
       "</style>\n",
       "<table border=\"1\" class=\"dataframe\">\n",
       "  <thead>\n",
       "    <tr style=\"text-align: right;\">\n",
       "      <th></th>\n",
       "      <th>user_id</th>\n",
       "      <th>actual</th>\n",
       "      <th>als_count_trans</th>\n",
       "      <th>als_quantity</th>\n",
       "      <th>als_sales</th>\n",
       "      <th>als_count_weeks</th>\n",
       "      <th>als_count_days</th>\n",
       "    </tr>\n",
       "  </thead>\n",
       "  <tbody>\n",
       "    <tr>\n",
       "      <th>0</th>\n",
       "      <td>1</td>\n",
       "      <td>[821867, 834484, 856942, 865456, 889248, 90795...</td>\n",
       "      <td>[1033142, 1005186, 979707, 5569374, 995242]</td>\n",
       "      <td>[1033142, 1005186, 979707, 5569374, 995242]</td>\n",
       "      <td>[1105488, 5569374, 832678, 1062002, 878996]</td>\n",
       "      <td>[1033142, 1005186, 979707, 5569374, 995242]</td>\n",
       "      <td>[1033142, 1005186, 979707, 5569374, 995242]</td>\n",
       "    </tr>\n",
       "    <tr>\n",
       "      <th>1</th>\n",
       "      <td>3</td>\n",
       "      <td>[835476, 851057, 872021, 878302, 879948, 90963...</td>\n",
       "      <td>[1106523, 5568378, 1133018, 910032, 5569327]</td>\n",
       "      <td>[1106523, 5568378, 910032, 1133018, 5569327]</td>\n",
       "      <td>[914190, 965766, 910032, 919534, 1075368]</td>\n",
       "      <td>[1106523, 910032, 5569327, 1133018, 965766]</td>\n",
       "      <td>[1106523, 1133018, 910032, 5568378, 5569327]</td>\n",
       "    </tr>\n",
       "  </tbody>\n",
       "</table>\n",
       "</div>"
      ],
      "text/plain": [
       "   user_id                                             actual  \\\n",
       "0        1  [821867, 834484, 856942, 865456, 889248, 90795...   \n",
       "1        3  [835476, 851057, 872021, 878302, 879948, 90963...   \n",
       "\n",
       "                                als_count_trans  \\\n",
       "0   [1033142, 1005186, 979707, 5569374, 995242]   \n",
       "1  [1106523, 5568378, 1133018, 910032, 5569327]   \n",
       "\n",
       "                                   als_quantity  \\\n",
       "0   [1033142, 1005186, 979707, 5569374, 995242]   \n",
       "1  [1106523, 5568378, 910032, 1133018, 5569327]   \n",
       "\n",
       "                                     als_sales  \\\n",
       "0  [1105488, 5569374, 832678, 1062002, 878996]   \n",
       "1    [914190, 965766, 910032, 919534, 1075368]   \n",
       "\n",
       "                               als_count_weeks  \\\n",
       "0  [1033142, 1005186, 979707, 5569374, 995242]   \n",
       "1  [1106523, 910032, 5569327, 1133018, 965766]   \n",
       "\n",
       "                                 als_count_days  \n",
       "0   [1033142, 1005186, 979707, 5569374, 995242]  \n",
       "1  [1106523, 1133018, 910032, 5568378, 5569327]  "
      ]
     },
     "execution_count": 76,
     "metadata": {},
     "output_type": "execute_result"
    }
   ],
   "source": [
    "result_test.head(2)"
   ]
  },
  {
   "cell_type": "markdown",
   "metadata": {},
   "source": [
    "### Оценка вариантов взвешивания"
   ]
  },
  {
   "cell_type": "markdown",
   "metadata": {},
   "source": [
    "#### для Train"
   ]
  },
  {
   "cell_type": "code",
   "execution_count": 83,
   "metadata": {},
   "outputs": [
    {
     "name": "stdout",
     "output_type": "stream",
     "text": [
      "N варианта\t Качество\t Вариант взвешивания\n",
      "\n",
      "0\t\t 0.872109\t\t als_count_trans\n",
      "1\t\t 0.873469\t\t als_quantity\n",
      "2\t\t 0.764146\t\t als_sales\n",
      "3\t\t 0.873469\t\t als_count_weeks\n",
      "4\t\t 0.873549\t\t als_count_days\n"
     ]
    }
   ],
   "source": [
    "list_precision_train = show_result(result_train)"
   ]
  },
  {
   "cell_type": "markdown",
   "metadata": {},
   "source": [
    "####  для Test"
   ]
  },
  {
   "cell_type": "code",
   "execution_count": 84,
   "metadata": {},
   "outputs": [
    {
     "name": "stdout",
     "output_type": "stream",
     "text": [
      "N варианта\t Качество\t Вариант взвешивания\n",
      "\n",
      "0\t\t 0.161802\t\t als_count_trans\n",
      "1\t\t 0.161508\t\t als_quantity\n",
      "2\t\t 0.108129\t\t als_sales\n",
      "3\t\t 0.163271\t\t als_count_weeks\n",
      "4\t\t 0.161998\t\t als_count_days\n"
     ]
    }
   ],
   "source": [
    "list_precision_test = show_result(result_test)"
   ]
  },
  {
   "cell_type": "markdown",
   "metadata": {},
   "source": [
    "### Вывод на график результатов оценки качества взвешивания для Train и для Test"
   ]
  },
  {
   "cell_type": "code",
   "execution_count": 86,
   "metadata": {},
   "outputs": [
    {
     "data": {
      "image/png": "[encoded data removed]",
      "text/plain": [
       "<Figure size 1152x432 with 2 Axes>"
      ]
     },
     "metadata": {
      "needs_background": "light"
     },
     "output_type": "display_data"
    }
   ],
   "source": [
    "df_chart_train = pd.DataFrame(list(zip(list_variants_weight, list_precision_train)), columns = ['weight', 'precision'])\n",
    "df_chart_test  = pd.DataFrame(list(zip(list_variants_weight, list_precision_test)),  columns = ['weight', 'precision'])\n",
    "\n",
    "fig, ax = plt.subplots()\n",
    "fig.set_size_inches(16, 6)\n",
    "\n",
    "plt.subplot(121)\n",
    "g1 = sns.barplot(x = 'weight', y = 'precision', data = df_chart_train) #, color = 'steelblue')\n",
    "\n",
    "plt.xlabel('weight',         fontsize = 14, weight = 'bold')\n",
    "plt.ylabel('precision_at_k', fontsize = 14, weight = 'bold')\n",
    "plt.title('Train',           fontsize = 16, weight = 'bold')\n",
    "\n",
    "plt.xticks(fontsize = 10, weight = 'bold')\n",
    "plt.yticks(fontsize = 14, weight = 'bold')\n",
    "plt.xticks(rotation = 45)\n",
    "\n",
    "plt.subplot(122)\n",
    "g2 = sns.barplot(x = 'weight', y = 'precision', data = df_chart_test)\n",
    "\n",
    "plt.xlabel('weight',         fontsize = 14, weight = 'bold')\n",
    "plt.ylabel('precision_at_k', fontsize = 12, weight = 'bold')\n",
    "plt.title('Test',            fontsize = 16, weight = 'bold')\n",
    "\n",
    "plt.xticks(fontsize = 10, weight = 'bold')\n",
    "plt.yticks(fontsize = 14, weight = 'bold')\n",
    "plt.xticks(rotation = 45)\n",
    "\n",
    "# значения меток данных для Train\n",
    "for index, row in df_chart_train.iterrows():\n",
    "    g1.text(row.name, row.precision * 0.9, str(round(row.precision, 6)), \n",
    "               color = 'black', ha = \"center\", weight = 'bold', size = 12)\n",
    "\n",
    "# значения меток данных для Test\n",
    "for index, row in df_chart_test.iterrows():\n",
    "    g2.text(row.name, row.precision * 0.9, str(round(row.precision, 6)),\n",
    "               color = 'black', ha = \"center\", weight = 'bold', size = 12)    \n",
    "\n",
    "plt.show()"
   ]
  },
  {
   "cell_type": "markdown",
   "metadata": {},
   "source": [
    "### Выводы"
   ]
  },
  {
   "cell_type": "markdown",
   "metadata": {},
   "source": [
    "**На трейне**\n",
    "\n",
    "* В целом все варинты, за исключением als_sales (общий оборот), показали достаточно высокое качество, ~0.87.\n",
    "* Лучшее качество получено для 2-го и 4-го вариантов взвешивания, als_quantity и als_count_weeks - это общее, суммарное количество и уникальное количество периодов (недель).\n",
    "\n",
    "**На тесте**\n",
    "\n",
    "* Наблюдается похожая картина, только значения в разы ниже в диапазоне 0,10 - 0,16.\n",
    "* Четыре алгоритма имеют примерно одинаковые результаты 0,16. \n",
    "* Также провалился метод las_sales, только здесь еще сильнее до 0,10.\n",
    "* А лучший результат у als_count_weeks."
   ]
  },
  {
   "cell_type": "markdown",
   "metadata": {},
   "source": [
    "### Задание 2. Оптимизация гиперпараметров\n",
    "Для лучшей матрицы весов из первого задания подберите оптимальные $\\lambda$ и n_factors. Подбор можно делать вручную (цикл в цикле, аналог sklearn.GridSearch, или случайно - sklearn.RandomSearch). Или Вы можете воспользоваться библиотеками для автоматического подбора гипперпараметров (любые на Ваш вкус). В качестве результата постройте графики:\n",
    "1. Значение параметра - время обучения \n",
    "2. Значение параметра - качество train, качество validation  \n",
    "\n",
    "Сделайте качественные выводы"
   ]
  },
  {
   "cell_type": "markdown",
   "metadata": {},
   "source": [
    "#### Перебор значений параметров (для Train и для Test)"
   ]
  },
  {
   "cell_type": "code",
   "execution_count": 114,
   "metadata": {},
   "outputs": [],
   "source": [
    "# списки значений factors и regularization\n",
    "\n",
    "# list_factors = [10, 50, 100, 200]\n",
    "# list_regularization = [0.1, 0.01, 0.001, 0.0001]\n",
    "\n",
    "list_factors = [10, 50, 100]\n",
    "list_regularization = [0.01, 0.001, 0.0001]\n",
    "\n",
    "# Функция перебора параметров\n",
    "def get_table_params(data, data_valid):\n",
    "\n",
    "    # реальные данные user + item\n",
    "    result = data_valid.groupby('user_id')['item_id'].unique().reset_index()\n",
    "    result.columns = ['user_id', 'actual']\n",
    "    result['actual'] = result['actual'].apply(lambda x: list(x))\n",
    "\n",
    "    #---------------------------------------------------------------------------------------------------------------\n",
    "    # матрица user_item_matrix; Вес = уникальное количество недель\n",
    "    user_item_matrix = get_matrix_user_item(data, 3)    \n",
    "    sparse_user_item = csr_matrix(user_item_matrix).tocsr()\n",
    "\n",
    "    list_params = []\n",
    "    \n",
    "    # Перебор всех значений factors и regularization\n",
    "    i = 0\n",
    "    for f in list_factors:\n",
    "        for r in list_regularization:\n",
    "\n",
    "            i += 1\n",
    "            param_key = param_key = str(f) + '_' + str(r)\n",
    "            \n",
    "            # замер времени - начало\n",
    "            start_time = time.monotonic()\n",
    "\n",
    "            # модель\n",
    "            model = AlternatingLeastSquares( factors = f,\n",
    "                                            regularization = r,\n",
    "                                            iterations = 15, \n",
    "                                            calculate_training_loss = True, \n",
    "                                            num_threads = 4)\n",
    "            \n",
    "            model.fit( csr_matrix(user_item_matrix).T.tocsr(), show_progress = False)\n",
    "            \n",
    "            # замер времени - окончание\n",
    "            end_time = time.monotonic()\n",
    "            time_fit = timedelta(seconds = end_time - start_time)\n",
    "            \n",
    "            # замер времени - начало\n",
    "            start_time = time.monotonic()                      \n",
    "            \n",
    "            # предсказание\n",
    "            result[param_key] = result['user_id'].apply(\n",
    "                                                    lambda x: get_recommendations(x, sparse_user_item, model = model, N = 5))\n",
    "            \n",
    "            # замер времени - окончание\n",
    "            end_time = time.monotonic()\n",
    "            time_recommend = timedelta(seconds = end_time - start_time)\n",
    "            \n",
    "            time_total = time_fit + time_recommend\n",
    "            print(f'{i}\\t factors = {f}\\t regularization = {r}\\t\\t time_fit = {time_fit}\\t time_recommend = {time_recommend}')\n",
    "\n",
    "            # список параметров для оценки\n",
    "            list_params.append( [param_key, f, r, time_fit, time_recommend, time_total, 0.0] )\n",
    "            \n",
    "    return result, list_params"
   ]
  },
  {
   "cell_type": "code",
   "execution_count": 115,
   "metadata": {},
   "outputs": [],
   "source": [
    "# Расчет оценки качества для каждой комбинации параметров\n",
    "def get_params_evaluation(result, list_params, sort_type):\n",
    "\n",
    "    list_result = []\n",
    "\n",
    "    for param in list_params:\n",
    "        \n",
    "        param_key = param[0]\n",
    "        param[6] = result.apply(lambda x: precision_at_k( x[param_key], x['actual'],  5), axis = 1 ).mean()\n",
    "       \n",
    "        list_result.append(param)\n",
    "\n",
    "    if (sort_type == 'time'):   # сортировка по времени выполнения (time_total)\n",
    "        list_result.sort(key = lambda x: x[5], reverse = True)    \n",
    "    \n",
    "    else:                       # сортировка по времени выполнения по качеству (precison_at_k)\n",
    "        list_result.sort(key = lambda x: x[6], reverse = True)\n",
    "\n",
    "    print(f'Место  Factor Regularization\\t Time_fit\\t Time_recommend\\t Time_total\\t Precision_at_k\\t Key')     \n",
    "    print()\n",
    "    for place, res in enumerate(list_result):\n",
    "        print(f'   {place + 1}   {res[1]}\\t {res[2]}\\t\\t {res[3]}\\t {res[4]}\\t {res[5]}\\t {round(res[6], 6)}\\t {res[0]} ')\n",
    "        \n",
    "    return list_result"
   ]
  },
  {
   "cell_type": "markdown",
   "metadata": {},
   "source": [
    "#### Заполнение значений параметров (factors и regularization) и их оценка"
   ]
  },
  {
   "cell_type": "markdown",
   "metadata": {},
   "source": [
    "#### для Train"
   ]
  },
  {
   "cell_type": "code",
   "execution_count": 116,
   "metadata": {},
   "outputs": [
    {
     "name": "stdout",
     "output_type": "stream",
     "text": [
      "1\t factors = 10\t regularization = 0.01\t\t time_fit = 0:00:04.797000\t time_recommend = 0:00:18.782000\n",
      "2\t factors = 10\t regularization = 0.001\t\t time_fit = 0:00:04.546000\t time_recommend = 0:00:22.797000\n",
      "3\t factors = 10\t regularization = 0.0001\t\t time_fit = 0:00:04.984000\t time_recommend = 0:00:26.907000\n",
      "4\t factors = 50\t regularization = 0.01\t\t time_fit = 0:00:06.281000\t time_recommend = 0:00:51.953000\n",
      "5\t factors = 50\t regularization = 0.001\t\t time_fit = 0:00:06.984000\t time_recommend = 0:00:44.328000\n",
      "6\t factors = 50\t regularization = 0.0001\t\t time_fit = 0:00:05.938000\t time_recommend = 0:00:48.109000\n",
      "7\t factors = 100\t regularization = 0.01\t\t time_fit = 0:00:06.203000\t time_recommend = 0:01:45.204000\n",
      "8\t factors = 100\t regularization = 0.001\t\t time_fit = 0:00:05.562000\t time_recommend = 0:01:31.500000\n",
      "9\t factors = 100\t regularization = 0.0001\t\t time_fit = 0:00:05.344000\t time_recommend = 0:01:28.234000\n",
      "Wall time: 9min 25s\n"
     ]
    }
   ],
   "source": [
    "%%time\n",
    "result_params_train, list_params_train = get_table_params(data_train, data_train)"
   ]
  },
  {
   "cell_type": "markdown",
   "metadata": {},
   "source": [
    "#### для Test"
   ]
  },
  {
   "cell_type": "code",
   "execution_count": 117,
   "metadata": {},
   "outputs": [
    {
     "name": "stdout",
     "output_type": "stream",
     "text": [
      "1\t factors = 10\t regularization = 0.01\t\t time_fit = 0:00:04.359000\t time_recommend = 0:00:16.297000\n",
      "2\t factors = 10\t regularization = 0.001\t\t time_fit = 0:00:04.407000\t time_recommend = 0:00:16.281000\n",
      "3\t factors = 10\t regularization = 0.0001\t\t time_fit = 0:00:04.265000\t time_recommend = 0:00:15.891000\n",
      "4\t factors = 50\t regularization = 0.01\t\t time_fit = 0:00:05.281000\t time_recommend = 0:00:31.047000\n",
      "5\t factors = 50\t regularization = 0.001\t\t time_fit = 0:00:04.703000\t time_recommend = 0:00:29.657000\n",
      "6\t factors = 50\t regularization = 0.0001\t\t time_fit = 0:00:04.703000\t time_recommend = 0:00:29.140000\n",
      "7\t factors = 100\t regularization = 0.01\t\t time_fit = 0:00:05.250000\t time_recommend = 0:01:04.125000\n",
      "8\t factors = 100\t regularization = 0.001\t\t time_fit = 0:00:05.312000\t time_recommend = 0:01:03.813000\n",
      "9\t factors = 100\t regularization = 0.0001\t\t time_fit = 0:00:05.250000\t time_recommend = 0:01:28.562000\n",
      "Wall time: 6min 53s\n"
     ]
    }
   ],
   "source": [
    "%%time\n",
    "result_params_test, list_params_test = get_table_params(data_train, data_test)"
   ]
  },
  {
   "cell_type": "markdown",
   "metadata": {},
   "source": [
    "### Результаты сравнения параметров"
   ]
  },
  {
   "cell_type": "markdown",
   "metadata": {},
   "source": [
    "### для Train"
   ]
  },
  {
   "cell_type": "markdown",
   "metadata": {},
   "source": [
    "#### Места по Времени обучения time_total"
   ]
  },
  {
   "cell_type": "code",
   "execution_count": 118,
   "metadata": {},
   "outputs": [
    {
     "name": "stdout",
     "output_type": "stream",
     "text": [
      "Место  Factor Regularization\t Time_fit\t Time_recommend\t Time_total\t Precision_at_k\t Key\n",
      "\n",
      "   1   100\t 0.01\t\t 0:00:06.203000\t 0:01:45.204000\t 0:01:51.407000\t 0.858904\t 100_0.01 \n",
      "   2   100\t 0.001\t\t 0:00:05.562000\t 0:01:31.500000\t 0:01:37.062000\t 0.868027\t 100_0.001 \n",
      "   3   100\t 0.0001\t\t 0:00:05.344000\t 0:01:28.234000\t 0:01:33.578000\t 0.868347\t 100_0.0001 \n",
      "   4   50\t 0.01\t\t 0:00:06.281000\t 0:00:51.953000\t 0:00:58.234000\t 0.772549\t 50_0.01 \n",
      "   5   50\t 0.0001\t\t 0:00:05.938000\t 0:00:48.109000\t 0:00:54.047000\t 0.77407\t 50_0.0001 \n",
      "   6   50\t 0.001\t\t 0:00:06.984000\t 0:00:44.328000\t 0:00:51.312000\t 0.77503\t 50_0.001 \n",
      "   7   10\t 0.0001\t\t 0:00:04.984000\t 0:00:26.907000\t 0:00:31.891000\t 0.708363\t 10_0.0001 \n",
      "   8   10\t 0.001\t\t 0:00:04.546000\t 0:00:22.797000\t 0:00:27.343000\t 0.706363\t 10_0.001 \n",
      "   9   10\t 0.01\t\t 0:00:04.797000\t 0:00:18.782000\t 0:00:23.579000\t 0.707003\t 10_0.01 \n"
     ]
    }
   ],
   "source": [
    "# по времени обучения\n",
    "res_1 = get_params_evaluation(result_params_train, list_params_train, 'time')"
   ]
  },
  {
   "cell_type": "markdown",
   "metadata": {},
   "source": [
    "#### Места по Качеству precision_at_k"
   ]
  },
  {
   "cell_type": "code",
   "execution_count": 119,
   "metadata": {},
   "outputs": [
    {
     "name": "stdout",
     "output_type": "stream",
     "text": [
      "Место  Factor Regularization\t Time_fit\t Time_recommend\t Time_total\t Precision_at_k\t Key\n",
      "\n",
      "   1   100\t 0.0001\t\t 0:00:05.344000\t 0:01:28.234000\t 0:01:33.578000\t 0.868347\t 100_0.0001 \n",
      "   2   100\t 0.001\t\t 0:00:05.562000\t 0:01:31.500000\t 0:01:37.062000\t 0.868027\t 100_0.001 \n",
      "   3   100\t 0.01\t\t 0:00:06.203000\t 0:01:45.204000\t 0:01:51.407000\t 0.858904\t 100_0.01 \n",
      "   4   50\t 0.001\t\t 0:00:06.984000\t 0:00:44.328000\t 0:00:51.312000\t 0.77503\t 50_0.001 \n",
      "   5   50\t 0.0001\t\t 0:00:05.938000\t 0:00:48.109000\t 0:00:54.047000\t 0.77407\t 50_0.0001 \n",
      "   6   50\t 0.01\t\t 0:00:06.281000\t 0:00:51.953000\t 0:00:58.234000\t 0.772549\t 50_0.01 \n",
      "   7   10\t 0.0001\t\t 0:00:04.984000\t 0:00:26.907000\t 0:00:31.891000\t 0.708363\t 10_0.0001 \n",
      "   8   10\t 0.01\t\t 0:00:04.797000\t 0:00:18.782000\t 0:00:23.579000\t 0.707003\t 10_0.01 \n",
      "   9   10\t 0.001\t\t 0:00:04.546000\t 0:00:22.797000\t 0:00:27.343000\t 0.706363\t 10_0.001 \n"
     ]
    }
   ],
   "source": [
    "# по качеству\n",
    "res_2 = get_params_evaluation(result_params_train, list_params_train, 'precision')"
   ]
  },
  {
   "cell_type": "markdown",
   "metadata": {},
   "source": [
    "### для Test"
   ]
  },
  {
   "cell_type": "markdown",
   "metadata": {},
   "source": [
    "#### Места по Времени обучения time_total"
   ]
  },
  {
   "cell_type": "code",
   "execution_count": 120,
   "metadata": {},
   "outputs": [
    {
     "name": "stdout",
     "output_type": "stream",
     "text": [
      "Место  Factor Regularization\t Time_fit\t Time_recommend\t Time_total\t Precision_at_k\t Key\n",
      "\n",
      "   1   100\t 0.0001\t\t 0:00:05.250000\t 0:01:28.562000\t 0:01:33.812000\t 0.161019\t 100_0.0001 \n",
      "   2   100\t 0.01\t\t 0:00:05.250000\t 0:01:04.125000\t 0:01:09.375000\t 0.164838\t 100_0.01 \n",
      "   3   100\t 0.001\t\t 0:00:05.312000\t 0:01:03.813000\t 0:01:09.125000\t 0.163467\t 100_0.001 \n",
      "   4   50\t 0.01\t\t 0:00:05.281000\t 0:00:31.047000\t 0:00:36.328000\t 0.166797\t 50_0.01 \n",
      "   5   50\t 0.001\t\t 0:00:04.703000\t 0:00:29.657000\t 0:00:34.360000\t 0.164447\t 50_0.001 \n",
      "   6   50\t 0.0001\t\t 0:00:04.703000\t 0:00:29.140000\t 0:00:33.843000\t 0.162096\t 50_0.0001 \n",
      "   7   10\t 0.001\t\t 0:00:04.407000\t 0:00:16.281000\t 0:00:20.688000\t 0.168854\t 10_0.001 \n",
      "   8   10\t 0.01\t\t 0:00:04.359000\t 0:00:16.297000\t 0:00:20.656000\t 0.172576\t 10_0.01 \n",
      "   9   10\t 0.0001\t\t 0:00:04.265000\t 0:00:15.891000\t 0:00:20.156000\t 0.170127\t 10_0.0001 \n"
     ]
    }
   ],
   "source": [
    "# по времени обучения\n",
    "res_3 = get_params_evaluation(result_params_test, list_params_test, 'time')"
   ]
  },
  {
   "cell_type": "markdown",
   "metadata": {},
   "source": [
    "#### Места по Качеству precision_at_k"
   ]
  },
  {
   "cell_type": "code",
   "execution_count": 121,
   "metadata": {},
   "outputs": [
    {
     "name": "stdout",
     "output_type": "stream",
     "text": [
      "Место  Factor Regularization\t Time_fit\t Time_recommend\t Time_total\t Precision_at_k\t Key\n",
      "\n",
      "   1   10\t 0.01\t\t 0:00:04.359000\t 0:00:16.297000\t 0:00:20.656000\t 0.172576\t 10_0.01 \n",
      "   2   10\t 0.0001\t\t 0:00:04.265000\t 0:00:15.891000\t 0:00:20.156000\t 0.170127\t 10_0.0001 \n",
      "   3   10\t 0.001\t\t 0:00:04.407000\t 0:00:16.281000\t 0:00:20.688000\t 0.168854\t 10_0.001 \n",
      "   4   50\t 0.01\t\t 0:00:05.281000\t 0:00:31.047000\t 0:00:36.328000\t 0.166797\t 50_0.01 \n",
      "   5   100\t 0.01\t\t 0:00:05.250000\t 0:01:04.125000\t 0:01:09.375000\t 0.164838\t 100_0.01 \n",
      "   6   50\t 0.001\t\t 0:00:04.703000\t 0:00:29.657000\t 0:00:34.360000\t 0.164447\t 50_0.001 \n",
      "   7   100\t 0.001\t\t 0:00:05.312000\t 0:01:03.813000\t 0:01:09.125000\t 0.163467\t 100_0.001 \n",
      "   8   50\t 0.0001\t\t 0:00:04.703000\t 0:00:29.140000\t 0:00:33.843000\t 0.162096\t 50_0.0001 \n",
      "   9   100\t 0.0001\t\t 0:00:05.250000\t 0:01:28.562000\t 0:01:33.812000\t 0.161019\t 100_0.0001 \n"
     ]
    }
   ],
   "source": [
    "# по качеству\n",
    "res_4 = get_params_evaluation(result_params_test, list_params_test, 'precision')"
   ]
  },
  {
   "cell_type": "markdown",
   "metadata": {},
   "source": [
    "### Выводы"
   ]
  },
  {
   "cell_type": "markdown",
   "metadata": {},
   "source": [
    "### Для Train"
   ]
  },
  {
   "cell_type": "markdown",
   "metadata": {},
   "source": [
    "#### По времени обучения"
   ]
  },
  {
   "cell_type": "markdown",
   "metadata": {},
   "source": [
    "1. Полученные результаты показывают, что время **Время обучения** очень чувствительно к параметру **factors**. \n",
    "Точнее, само время обучения модели **time_fit** при увеличении **factors** растет, но незначительно.\n",
    "А вот, время получения рекоммендаций **time_recommend**, при увеличении значения **factors**, прирастает очень прилично.\n",
    "\n",
    "\n",
    "2. А от параметра **regularization** **Время обучения** не зависит. Результаты измерений получились разнонаправленные, что-то больше, что-то меньше."
   ]
  },
  {
   "cell_type": "markdown",
   "metadata": {},
   "source": [
    "#### По качеству"
   ]
  },
  {
   "cell_type": "markdown",
   "metadata": {},
   "source": [
    "1. **Качество** также зависит от параметра **factors**. С увеличением значения **factors**, **Качество** модели растет.\n",
    "Точнее, само время обучения модели **time_fit** при увеличении factors растет, но незначительно.\n",
    "А вот, время получения рекоммендаций **time_recommend**, при увеличении значения factors, прирастает очень прилично.\n",
    "\n",
    "\n",
    "2. И аналогично **Времени обучения**, получилось, что **Качество** не зависит от **regularization**. Результаты измерений также получились разнонаправленные."
   ]
  },
  {
   "cell_type": "markdown",
   "metadata": {},
   "source": [
    "### Для Test"
   ]
  },
  {
   "cell_type": "markdown",
   "metadata": {},
   "source": [
    "1. Параметр **Время обучения** реагирует аналогичным образом, как и для тренировочного набора, и на **factors** и на **regularization**\n",
    "\n",
    "\n",
    "2. А по **Качеству** получилась обратная картина, лучшие результаты получены для наименьшего значения **factors** = 10. \n",
    "Для **regularization** результаты измерений вновь получились разнонаправленные, четкой зависимости не прослеживается."
   ]
  },
  {
   "cell_type": "code",
   "execution_count": null,
   "metadata": {},
   "outputs": [],
   "source": []
  }
 ],
 "metadata": {
  "kernelspec": {
   "display_name": "Python 3",
   "language": "python",
   "name": "python3"
  },
  "language_info": {
   "codemirror_mode": {
    "name": "ipython",
    "version": 3
   },
   "file_extension": ".py",
   "mimetype": "text/x-python",
   "name": "python",
   "nbconvert_exporter": "python",
   "pygments_lexer": "ipython3",
   "version": "3.7.6"
  }
 },
 "nbformat": 4,
 "nbformat_minor": 2
}

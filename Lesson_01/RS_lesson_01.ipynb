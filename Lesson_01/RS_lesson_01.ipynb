{
 "cells": [
  {
   "cell_type": "markdown",
   "metadata": {},
   "source": [
    "### Домашнее задание"
   ]
  },
  {
   "cell_type": "code",
   "execution_count": 175,
   "metadata": {},
   "outputs": [],
   "source": [
    "import pandas as pd\n",
    "import numpy as np\n",
    "import matplotlib.pyplot as plt\n",
    "\n",
    "%matplotlib inline"
   ]
  },
  {
   "cell_type": "code",
   "execution_count": 176,
   "metadata": {},
   "outputs": [],
   "source": [
    "def hit_rate_at_k(recommended_list, bought_list, k=5):\n",
    "    \n",
    "    bought_list = np.array(bought_list)\n",
    "    recommended_list = np.array(recommended_list)[:k]\n",
    "    flags = np.isin(bought_list, recommended_list)\n",
    "    \n",
    "    hit_rate = (flags.sum() > 0).astype(int)\n",
    "    \n",
    "\n",
    "    return hit_rate"
   ]
  },
  {
   "cell_type": "code",
   "execution_count": 177,
   "metadata": {},
   "outputs": [],
   "source": [
    "def precision_at_k(recommended_list, bought_list, k=5):\n",
    "    \n",
    "    bought_list = np.array(bought_list)\n",
    "    recommended_list = np.array(recommended_list)\n",
    "    \n",
    "    bought_list = bought_list  # Тут нет [:k] !!\n",
    "    recommended_list = recommended_list[:k]\n",
    "    \n",
    "    flags = np.isin(bought_list, recommended_list)\n",
    "    precision = flags.sum() / len(recommended_list)\n",
    "    \n",
    "    return precision"
   ]
  },
  {
   "cell_type": "code",
   "execution_count": 178,
   "metadata": {},
   "outputs": [],
   "source": [
    "def recall(recommended_list, bought_list):\n",
    "    bought_list = np.array(bought_list)\n",
    "    recommended_list = np.array(recommended_list)\n",
    "    \n",
    "    flags = np.isin(bought_list, recommended_list)\n",
    "    \n",
    "    recall = flags.sum() / len(bought_list)\n",
    "    \n",
    "    return recall\n",
    "\n",
    "\n",
    "def recall_at_k(recommended_list, bought_list, k=5):\n",
    "    bought_list = np.array(bought_list)\n",
    "    recommended_list = np.array(recommended_list)[:k]\n",
    "    \n",
    "    flags = np.isin(bought_list, recommended_list)\n",
    "    \n",
    "    recall = flags.sum() / len(bought_list)\n",
    "    \n",
    "    return recall"
   ]
  },
  {
   "cell_type": "code",
   "execution_count": 179,
   "metadata": {},
   "outputs": [],
   "source": [
    "def ap_k(recommended_list, bought_list, k=5):\n",
    "    \n",
    "    bought_list = np.array(bought_list)\n",
    "    recommended_list = np.array(recommended_list)\n",
    "    \n",
    "#-----------------------------------------------------------------------------------------------\n",
    "# исправил строку...    \n",
    "# было\n",
    "    flags = np.isin(recommended_list, bought_list)\n",
    "# стало\n",
    "    flags = np.isin(recommended_list[:k], bought_list)\n",
    "#-----------------------------------------------------------------------------------------------\n",
    "        \n",
    "    if sum(flags) == 0:\n",
    "        return 0\n",
    "    \n",
    "    sum_ = 0\n",
    "    for i in range(1, k+1): \n",
    "        if flags[i-1] == True:\n",
    "            p_k = precision_at_k(recommended_list, bought_list, k=i)\n",
    "            sum_ += p_k\n",
    "    result = sum_ / len(flags)\n",
    "    \n",
    "    return result"
   ]
  },
  {
   "cell_type": "code",
   "execution_count": 180,
   "metadata": {},
   "outputs": [],
   "source": [
    "def ndcg_k(recommended_list, bought_list, k=5):\n",
    "    \n",
    "    bought_list = np.array(bought_list)\n",
    "    recommended_list = np.array(recommended_list)\n",
    "    \n",
    "    flags = np.isin(recommended_list[:k], bought_list)\n",
    "        \n",
    "    if sum(flags) == 0:\n",
    "        return 0\n",
    "    \n",
    "    dcg = 0\n",
    "    dcg_ideal = 0\n",
    "    \n",
    "    for i in range(k):\n",
    "        if (i+1 <= 2):\n",
    "            coef = 1\n",
    "        else:\n",
    "            coef = 1 / np.log2(i+1)\n",
    "        \n",
    "        dcg_ideal += 1 * coef\n",
    "        \n",
    "        if flags[i]:\n",
    "            dcg += 1 * coef\n",
    "    \n",
    "    dcg /= k\n",
    "    dcg_ideal /= k\n",
    "    result = dcg / dcg_ideal\n",
    "   \n",
    "    return result"
   ]
  },
  {
   "cell_type": "code",
   "execution_count": 181,
   "metadata": {},
   "outputs": [],
   "source": [
    "def reciprocal_rank(recommended_list, bought_list, k=5):\n",
    "    ranks = 0.\n",
    "    \n",
    "    for i, item_rec in enumerate(recommended_list[:k]):\n",
    "        for item_bought in bought_list:\n",
    "    \n",
    "            if item_rec == item_bought:\n",
    "                ranks += 1 / (i+1)\n",
    "    \n",
    "    return ranks / len(recommended_list[:k])"
   ]
  },
  {
   "cell_type": "markdown",
   "metadata": {},
   "source": [
    "### Задание 1"
   ]
  },
  {
   "cell_type": "markdown",
   "metadata": {},
   "source": [
    "- Сравните метрики hit_rate@k, precision@k.   \n",
    "- Какую метрику использовать предпочтительно и почему?  \n",
    "- Приведите пример 2-3 задач (опишите, что является клиентом, что товаром), в которой более уместно использовать метрику hit_rate?\n"
   ]
  },
  {
   "cell_type": "code",
   "execution_count": 182,
   "metadata": {},
   "outputs": [
    {
     "name": "stdout",
     "output_type": "stream",
     "text": [
      "recommended_list = [1, 2, 3, 4, 5, 6, 7, 8, 9, 10]\n",
      "bought_list_1 = [3, 9, 26, 44, 72]\n",
      "bought_list_2 = [12, 17, 26, 44, 72]\n",
      "\n",
      "hit_rate@k_1 = 1;\t precision@k_1 = 20.0%\n",
      "hit_rate@k_2 = 0;\t precision@k_2 = 0.0%\n"
     ]
    }
   ],
   "source": [
    "# Пример данных и метрик - 2 случая\n",
    "recommended_list = [1, 2, 3, 4, 5, 6, 7, 8, 9, 10]\n",
    "\n",
    "bought_list_1 = [ 3,  9, 26, 44, 72]\n",
    "bought_list_2 = [12, 17, 26, 44, 72]\n",
    "\n",
    "hr_1 = hit_rate_at_k(recommended_list, bought_list_1)\n",
    "hr_2 = hit_rate_at_k(recommended_list, bought_list_2)\n",
    "\n",
    "pr_1 = precision_at_k(recommended_list, bought_list_1)\n",
    "pr_2 = precision_at_k(recommended_list, bought_list_2)\n",
    "\n",
    "print(\"recommended_list =\", recommended_list)\n",
    "print(\"bought_list_1 =\", bought_list_1)\n",
    "print(\"bought_list_2 =\", bought_list_2)\n",
    "\n",
    "print()\n",
    "# print(f'hit_rate@k_1 = {hr_1};\\t hit_rate@k_2 = {hr_2}')\n",
    "# print(f'precision@k_1 = {pr_1*100}%;\\t precision@k_2 = {pr_2*100}%')\n",
    "print(f'hit_rate@k_1 = {hr_1};\\t precision@k_1 = {pr_1*100}%')\n",
    "print(f'hit_rate@k_2 = {hr_2};\\t precision@k_2 = {pr_2*100}%')"
   ]
  },
  {
   "cell_type": "markdown",
   "metadata": {},
   "source": [
    "Метрика **Нit_rate** просто показывает было ли взимодействие пользователя и рекомендованных (k) товаров. Принимает целые значение 0 и 1. Где 0 - не было взаимодействия и 1 - было.\n",
    "\n",
    "Метрика **Precision** показывает долю, какая часть рекомендованных (k) товаров оказалось релевантной. Принимает значение вещественные значения от 0 до 1.\n",
    "\n",
    "Предпочтительный использовать метрику Precision, т.к. она по сути уже включает в себя Hite_rate и является более информативным показателем.  \n",
    "Precision, не равное нулю, означает, что взаимодействие было.  \n",
    "А фактическое значение Precision показывает точность рекомендации."
   ]
  },
  {
   "cell_type": "markdown",
   "metadata": {},
   "source": [
    "**Где можно использовать метрику Hit_rate**\n",
    "\n",
    "1. **Любые выборы** (президента, различных органов власти и т.д.)\n",
    "\n",
    "   Клиенты - избиратели, товар - кандидаты.  \n",
    "   Человек участвовал в выборах - 1; Не участвовал - 0  \n",
    "        \n",
    "      \n",
    "2. **Предложение банковских продуктов**: кредитов, вкладов, карт и т.д.  \n",
    "   \n",
    "   Клиенты - люди; Товар - продукты банка  \n",
    "   Если человек воспользовался хотя бы одним продуктом - 1 (стал клиентом банка); Не воспользовался - 0  \n",
    "      \n",
    "      \n",
    "3. **Продажа туров туристическими компаниями**\n",
    "\n",
    "    Клиенты - люди; Товар - различные варианты туров  \n",
    "    Человек купил тур - 1; Не купил - 0"
   ]
  },
  {
   "cell_type": "markdown",
   "metadata": {},
   "source": [
    "### Задание 2"
   ]
  },
  {
   "cell_type": "markdown",
   "metadata": {},
   "source": [
    "- В метрике NDCG@k мы используем логарифм в знаменателе. Как Вы думаете, почему именно логарифм?\n",
    "- Какую функцию можно использовать вместо логарифма?\n",
    "- Приведите пример метрик/подходов к предобработке данных/функций ошибок в ML, где также в  логарифм."
   ]
  },
  {
   "cell_type": "markdown",
   "metadata": {},
   "source": [
    "1. В метрике NDCG используется логарифм чтобы взвесить значения, представленные в списке. Логарифм придает значениям в начале списка бОльший вес, чем значениям в конце. Рост функции Log замедляется, поэтому веса меняются очень плавно.\n",
    "\n",
    "\n",
    "2. Можно использовать степенную функцию с показателем (1/N), т.е. с показателдем меньше единицы (или корень N степени)\n",
    "\n",
    "\n",
    "3. Примеры метрик и подходов c логарифмами:\n",
    "\n",
    "    - Логистическая функция потерь  \n",
    "    - Критерий информативности - энтропия Шеннона  \n",
    "    - Коэффициент доверия классификатору  \n",
    "    - Гомогенность, Полнота, V-мера (для кластеров и классов)  \n",
    "    - Взаимная информация"
   ]
  },
  {
   "cell_type": "markdown",
   "metadata": {},
   "source": [
    "### Задание 3"
   ]
  },
  {
   "cell_type": "markdown",
   "metadata": {},
   "source": [
    "Какие еще метрики (Вы можете вспомнить уже пройденные Вами или посмотреть в интернете) могут использоваться для рекомендательных систем (приведите примеры метрики **и чем являются интеракции**, чтобы она могла быть использована)."
   ]
  },
  {
   "cell_type": "markdown",
   "metadata": {},
   "source": [
    "1. **CVR (conversion rate)** - коэффициент конверсии.\n",
    "\n",
    "    Отношение полученных активных действий (лидов, заказов, транзакций и пр.) к общему количеству аудитории.  \n",
    "    Интеракции - активные действия пользователей.\n",
    "    \n",
    "    \n",
    "2. **CTR (click throught rate)** - кликабельность.\n",
    "\n",
    "    Отношение числа кликов по рекламному объявлению/баннеру к числу показов.  \n",
    "    Интеракция - клик по рекламному объявлению.\n",
    "    \n",
    "    \n",
    "3. **OR (Open-Rate)** - открываемость e-mail сообщений\n",
    "\n",
    "    Отражает долю писем, открытых получателями в общей массе отправленных писем. Показывает, насколько удачной была рассылка.  \n",
    "    Интеракция  - окрытие письма с сообщением."
   ]
  },
  {
   "cell_type": "markdown",
   "metadata": {},
   "source": [
    "### Задание 4"
   ]
  },
  {
   "cell_type": "markdown",
   "metadata": {},
   "source": [
    "boughted = [1, 3, 5, 7, 9, 11]  \n",
    "recommended = [2, 5, 7, 4, 11, 9, 8, 10, 12, 3]  \n",
    "\n",
    "Посчитайте на этих данных pr@8, rec@8, AP@8, NDCG@8, MRR@8,  \n",
    "Сначала поссчитайет \"руками\", а затем подтвердите рассчеты с помощью функций (некоторые были на семинаре, некоторые нужно будут написать самостоятельно)\n",
    "\n",
    "IDCG должен считаться для всех 8 позиций рекомендаций"
   ]
  },
  {
   "cell_type": "markdown",
   "metadata": {},
   "source": [
    "**Пример выполнения 4го задания**\n",
    "\n",
    "MSE на  \n",
    "$y = [0, 2]$  \n",
    "$y_{pred} = [1, 2]$\n",
    "\n",
    "MSE = $0.5*((0 - 1)^2 + (2-2)^2) = 0.5$ "
   ]
  },
  {
   "cell_type": "code",
   "execution_count": 183,
   "metadata": {},
   "outputs": [
    {
     "data": {
      "text/plain": [
       "0.5"
      ]
     },
     "execution_count": 183,
     "metadata": {},
     "output_type": "execute_result"
    }
   ],
   "source": [
    "import numpy as np\n",
    "((np.array([0, 2]) - np.array([1, 2]))**2).mean()"
   ]
  },
  {
   "cell_type": "code",
   "execution_count": 184,
   "metadata": {},
   "outputs": [],
   "source": [
    "boughted = [1, 3, 5, 7, 9, 11]  \n",
    "recommended = [2, 5, 7, 4, 11, 9, 8, 10, 12, 3] "
   ]
  },
  {
   "cell_type": "markdown",
   "metadata": {},
   "source": [
    "#### PR@8"
   ]
  },
  {
   "cell_type": "code",
   "execution_count": 185,
   "metadata": {},
   "outputs": [
    {
     "data": {
      "text/plain": [
       "0.5"
      ]
     },
     "execution_count": 185,
     "metadata": {},
     "output_type": "execute_result"
    }
   ],
   "source": [
    "# [1, 3, 5, 7, 9, 11]  \n",
    "# [2, 5, 7, 4, 11, 9, 8, 10, 12, 3] \n",
    "\n",
    "PR_8 = (0 + 0 + 1 + 1 + 1 + 1 + 0 + 0) / (1 * 8)\n",
    "PR_8"
   ]
  },
  {
   "cell_type": "code",
   "execution_count": 186,
   "metadata": {},
   "outputs": [
    {
     "data": {
      "text/plain": [
       "0.5"
      ]
     },
     "execution_count": 186,
     "metadata": {},
     "output_type": "execute_result"
    }
   ],
   "source": [
    "precision_at_k(recommended, boughted, 8)"
   ]
  },
  {
   "cell_type": "markdown",
   "metadata": {},
   "source": [
    "#### REC@8"
   ]
  },
  {
   "cell_type": "code",
   "execution_count": 187,
   "metadata": {},
   "outputs": [
    {
     "data": {
      "text/plain": [
       "0.6666666666666666"
      ]
     },
     "execution_count": 187,
     "metadata": {},
     "output_type": "execute_result"
    }
   ],
   "source": [
    "# [1, 3, 5, 7, 9, 11]  \n",
    "# [2, 5, 7, 4, 11, 9, 8, 10, 12, 3] \n",
    "\n",
    "REC_8 = (0 + 0 + 1 + 1 + 1 + 1 + 0 + 0) / (1 * 6)\n",
    "REC_8"
   ]
  },
  {
   "cell_type": "code",
   "execution_count": 188,
   "metadata": {},
   "outputs": [
    {
     "data": {
      "text/plain": [
       "0.6666666666666666"
      ]
     },
     "execution_count": 188,
     "metadata": {},
     "output_type": "execute_result"
    }
   ],
   "source": [
    "recall_at_k(recommended, boughted, 8)"
   ]
  },
  {
   "cell_type": "markdown",
   "metadata": {},
   "source": [
    "#### AP@8"
   ]
  },
  {
   "cell_type": "code",
   "execution_count": 189,
   "metadata": {},
   "outputs": [
    {
     "data": {
      "text/plain": [
       "0.30416666666666664"
      ]
     },
     "execution_count": 189,
     "metadata": {},
     "output_type": "execute_result"
    }
   ],
   "source": [
    "# [1, 3, 5, 7, 9, 11]  \n",
    "# [2, 5, 7, 4, 11, 9, 8, 10, 12, 3] \n",
    "\n",
    "ap_8 = ( 0 * 0/1 + 1 * 1/2 + 1 * 2/3 + 0 * 2/4 + 1 * 3/5 + 1 * 4/6 + 0 * 4/7 + 0 * 4/8) / 8 \n",
    "ap_8"
   ]
  },
  {
   "cell_type": "code",
   "execution_count": 190,
   "metadata": {},
   "outputs": [
    {
     "data": {
      "text/plain": [
       "0.30416666666666664"
      ]
     },
     "execution_count": 190,
     "metadata": {},
     "output_type": "execute_result"
    }
   ],
   "source": [
    "ap_k(recommended, boughted, 8)"
   ]
  },
  {
   "cell_type": "markdown",
   "metadata": {},
   "source": [
    "#### NDCG@8"
   ]
  },
  {
   "cell_type": "code",
   "execution_count": 191,
   "metadata": {},
   "outputs": [
    {
     "name": "stdout",
     "output_type": "stream",
     "text": [
      "\tDCG      = 0.30605738985992403\n",
      "\tidealDCG = 0.5797499549150934\n",
      "\tNDCG@8   = 0.5279127445637272\n"
     ]
    }
   ],
   "source": [
    "# [1, 3, 5, 7, 9, 11]  \n",
    "# [2, 5, 7, 4, 11, 9, 8, 10, 12, 3] \n",
    "\n",
    "DCG = (0/1 + 1/np.log2(2) + 1/np.log2(3) + 0/np.log2(4) + 1/np.log2(5) + 1/np.log2(6) + 0/np.log2(7) + 0/np.log2(8)) / 8\n",
    "idealDCG = (1/1 + 1/np.log2(2) + 1/np.log2(3) + 1/np.log2(4) + 1/np.log2(5) + 1/np.log2(6) + 1/np.log2(7) + 1/np.log2(8)) / 8\n",
    "\n",
    "print(f'\\tDCG      = {DCG}\\n\\tidealDCG = {idealDCG}\\n\\tNDCG@8   = {DCG / idealDCG}')"
   ]
  },
  {
   "cell_type": "code",
   "execution_count": 192,
   "metadata": {},
   "outputs": [
    {
     "data": {
      "text/plain": [
       "0.5279127445637272"
      ]
     },
     "execution_count": 192,
     "metadata": {},
     "output_type": "execute_result"
    }
   ],
   "source": [
    "ndcg_k(recommended, boughted, 8)"
   ]
  },
  {
   "cell_type": "markdown",
   "metadata": {},
   "source": [
    "#### MRR@8"
   ]
  },
  {
   "cell_type": "code",
   "execution_count": 193,
   "metadata": {},
   "outputs": [
    {
     "data": {
      "text/plain": [
       "0.15"
      ]
     },
     "execution_count": 193,
     "metadata": {},
     "output_type": "execute_result"
    }
   ],
   "source": [
    "# [1, 3, 5, 7, 9, 11]  \n",
    "# [2, 5, 7, 4, 11, 9, 8, 10, 12, 3]\n",
    "\n",
    "MRR_8 = (0 + 1/2 + 1/3 + 0 + 1/5 + 1/6 + 0 + 0) / 8\n",
    "MRR_8 "
   ]
  },
  {
   "cell_type": "code",
   "execution_count": 194,
   "metadata": {},
   "outputs": [
    {
     "data": {
      "text/plain": [
       "0.15"
      ]
     },
     "execution_count": 194,
     "metadata": {},
     "output_type": "execute_result"
    }
   ],
   "source": [
    "reciprocal_rank(recommended, boughted, 8)"
   ]
  }
 ],
 "metadata": {
  "kernelspec": {
   "display_name": "Python 3",
   "language": "python",
   "name": "python3"
  },
  "language_info": {
   "codemirror_mode": {
    "name": "ipython",
    "version": 3
   },
   "file_extension": ".py",
   "mimetype": "text/x-python",
   "name": "python",
   "nbconvert_exporter": "python",
   "pygments_lexer": "ipython3",
   "version": "3.7.6"
  }
 },
 "nbformat": 4,
 "nbformat_minor": 2
}
